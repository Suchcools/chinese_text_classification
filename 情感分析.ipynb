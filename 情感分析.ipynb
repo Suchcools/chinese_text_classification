{
 "cells": [
  {
   "cell_type": "code",
   "execution_count": 30,
   "metadata": {},
   "outputs": [
    {
     "data": {
      "text/plain": [
       "0.9994203759286521"
      ]
     },
     "execution_count": 30,
     "metadata": {},
     "output_type": "execute_result"
    }
   ],
   "source": [
    "from snownlp import SnowNLP\n",
    "import pandas as pd\n",
    "text = '这是一段测试文本，用于进行情感分析。'\n",
    "s = SnowNLP(text)\n",
    "sentiment = s.sentiments\n",
    "sentiment"
   ]
  },
  {
   "cell_type": "code",
   "execution_count": 31,
   "metadata": {},
   "outputs": [
    {
     "name": "stderr",
     "output_type": "stream",
     "text": [
      "/tmp/ipykernel_3406102/1398618676.py:5: SettingWithCopyWarning: \n",
      "A value is trying to be set on a copy of a slice from a DataFrame\n",
      "\n",
      "See the caveats in the documentation: https://pandas.pydata.org/pandas-docs/stable/user_guide/indexing.html#returning-a-view-versus-a-copy\n",
      "  rawdata['Star'][rawdata['Star']>3 ]=1\n"
     ]
    },
    {
     "name": "stdout",
     "output_type": "stream",
     "text": [
      "均匀样本前\n",
      " 1    123624\n",
      "0      9769\n",
      "Name: Star, dtype: int64\n",
      "均匀样本后\n",
      " 1    9769\n",
      "0    9769\n",
      "Name: Star, dtype: int64\n"
     ]
    },
    {
     "name": "stderr",
     "output_type": "stream",
     "text": [
      "/tmp/ipykernel_3406102/1398618676.py:12: SettingWithCopyWarning: \n",
      "A value is trying to be set on a copy of a slice from a DataFrame\n",
      "\n",
      "See the caveats in the documentation: https://pandas.pydata.org/pandas-docs/stable/user_guide/indexing.html#returning-a-view-versus-a-copy\n",
      "  rawdata['Star'][rawdata.index.isin(bad.index)]=0\n",
      "/tmp/ipykernel_3406102/1398618676.py:13: SettingWithCopyWarning: \n",
      "A value is trying to be set on a copy of a slice from a DataFrame\n",
      "\n",
      "See the caveats in the documentation: https://pandas.pydata.org/pandas-docs/stable/user_guide/indexing.html#returning-a-view-versus-a-copy\n",
      "  rawdata['Star'][rawdata.index.isin(good.index)]=1\n"
     ]
    }
   ],
   "source": [
    "rawdata = pd.read_csv('./dataset/toutiao/DMSC.csv',low_memory=False)\n",
    "rawdata = rawdata[rawdata['Movie_Name_CN']=='大圣归来']\n",
    "rawdata=rawdata[['Star','Comment']]\n",
    "rawdata['Star'][rawdata['Star']<=2 ]=0\n",
    "rawdata['Star'][rawdata['Star']>3 ]=1\n",
    "temp = rawdata[rawdata['Star']==3].Comment.apply(lambda x:SnowNLP(x).sentiments)\n",
    "sentiments = pd.DataFrame(temp)\n",
    "sentiments['Comment'][sentiments['Comment']>=0.5]=1\n",
    "sentiments['Comment'][sentiments['Comment']<0.5]=0\n",
    "good = sentiments[sentiments['Comment']==1]\n",
    "bad = sentiments[sentiments['Comment']==0]\n",
    "rawdata['Star'][rawdata.index.isin(bad.index)]=0\n",
    "rawdata['Star'][rawdata.index.isin(good.index)]=1\n",
    "print('均匀样本前\\n',rawdata.Star.value_counts())\n",
    "class_num=len(rawdata[rawdata['Star']==0])\n",
    "data=pd.concat([rawdata[rawdata['Star']==1].sample(class_num),rawdata[rawdata['Star']==0]]).sample(2*class_num)\n",
    "data.index=range(2*class_num)\n",
    "print('均匀样本后\\n',data.Star.value_counts())"
   ]
  },
  {
   "cell_type": "code",
   "execution_count": null,
   "metadata": {},
   "outputs": [],
   "source": []
  }
 ],
 "metadata": {
  "kernelspec": {
   "display_name": "biobase",
   "language": "python",
   "name": "python3"
  },
  "language_info": {
   "codemirror_mode": {
    "name": "ipython",
    "version": 3
   },
   "file_extension": ".py",
   "mimetype": "text/x-python",
   "name": "python",
   "nbconvert_exporter": "python",
   "pygments_lexer": "ipython3",
   "version": "3.9.12"
  },
  "orig_nbformat": 4
 },
 "nbformat": 4,
 "nbformat_minor": 2
}
